{
 "cells": [
  {
   "cell_type": "code",
   "execution_count": 20,
   "metadata": {
    "id": "V4KeBd80LaWu"
   },
   "outputs": [],
   "source": [
    "# Imported the necessary libraries\n",
    "import pandas as pd\n",
    "import numpy as np\n",
    "from geopy.geocoders import Nominatim\n",
    "import time\n",
    "from pprint import pprint\n"
   ]
  },
  {
   "cell_type": "code",
   "execution_count": 21,
   "metadata": {
    "id": "g_jDFAdCLex1"
   },
   "outputs": [],
   "source": [
    "# Connected to the Nominatim API\n",
    "geolocator = Nominatim(user_agent=\"Assign\")"
   ]
  },
  {
   "cell_type": "code",
   "execution_count": 5,
   "metadata": {
    "id": "9ygd3CfwLe5Q"
   },
   "outputs": [],
   "source": [
    "Co_ord = pd.read_csv(\"Cell_tower.csv\")"
   ]
  },
  {
   "cell_type": "code",
   "execution_count": 6,
   "metadata": {
    "id": "z0y0nwjJLfB4"
   },
   "outputs": [],
   "source": [
    "# Join the latitude and longitudes to get the whole coordinates\n",
    "Co_ord['geom'] = Co_ord['lat'].map(str) + ',' + Co_ord['lng'].map(str)"
   ]
  },
  {
   "cell_type": "code",
   "execution_count": 29,
   "metadata": {
    "id": "nXLLeZ9DLoHa"
   },
   "outputs": [],
   "source": [
    "# Created subsets to hold the data which was retreived by the API after it was given the set of Co ordinates. 'Town' was added as I felt that the 'City' information was not accurate enough in some instances.\n",
    "town = []\n",
    "city = []\n",
    "country = []\n",
    "for feature in Co_ord['geom']:\n",
    "    location = geolocator.reverse(feature, timeout = 10)\n",
    "    address = location.raw['address']\n",
    "    town1 = address.get('town', '')\n",
    "    city1 = address.get('city', '')\n",
    "    country1 = address.get('country', '')\n",
    "    town.append(town1)\n",
    "    city.append(city1)\n",
    "    country.append(country1)\n"
   ]
  },
  {
   "cell_type": "code",
   "execution_count": null,
   "metadata": {
    "id": "ovKmyhYPLyY6"
   },
   "outputs": [],
   "source": [
    "country"
   ]
  },
  {
   "cell_type": "code",
   "execution_count": 31,
   "metadata": {
    "id": "qOUyYKULkrVq"
   },
   "outputs": [],
   "source": [
    "Co_ord[\"Country\"] = country"
   ]
  },
  {
   "cell_type": "code",
   "execution_count": 54,
   "metadata": {
    "colab": {
     "base_uri": "https://localhost:8080/"
    },
    "id": "T5-q93TD4QFk",
    "outputId": "e668101c-4bfb-4888-9377-4ae6035804c6"
   },
   "outputs": [
    {
     "data": {
      "text/plain": [
       "0                                     \n",
       "1          Mantsopa Local Municipality\n",
       "2       Metsimaholo Local Municipality\n",
       "3            Knysna Local Municipality\n",
       "4        Kai !Garib Local Municipality\n",
       "                     ...              \n",
       "6322     Overstrand Local Municipality\n",
       "6323    Mogale City Local Municipality\n",
       "6324       Impendle Local Municipality\n",
       "6325     Emakhazeni Local Municipality\n",
       "6326     Emakhazeni Local Municipality\n",
       "Name: City, Length: 6327, dtype: object"
      ]
     },
     "execution_count": 54,
     "metadata": {},
     "output_type": "execute_result"
    }
   ],
   "source": [
    "Co_ord[\"City\"] = city\n",
    "Co_ord[\"City\"]"
   ]
  },
  {
   "cell_type": "code",
   "execution_count": 49,
   "metadata": {
    "id": "W5LXtsbM4dBQ"
   },
   "outputs": [],
   "source": [
    "Co_ord[\"Town\"] = town"
   ]
  },
  {
   "cell_type": "code",
   "execution_count": 59,
   "metadata": {
    "colab": {
     "base_uri": "https://localhost:8080/",
     "height": 424
    },
    "id": "8hINcovf_vuV",
    "outputId": "fb87ea73-f970-41ed-e302-a35fe22555b9"
   },
   "outputs": [
    {
     "data": {
      "text/html": [
       "\n",
       "  <div id=\"df-8767b6cc-2e8e-46dd-878a-58a0225ec4b3\">\n",
       "    <div class=\"colab-df-container\">\n",
       "      <div>\n",
       "<style scoped>\n",
       "    .dataframe tbody tr th:only-of-type {\n",
       "        vertical-align: middle;\n",
       "    }\n",
       "\n",
       "    .dataframe tbody tr th {\n",
       "        vertical-align: top;\n",
       "    }\n",
       "\n",
       "    .dataframe thead th {\n",
       "        text-align: right;\n",
       "    }\n",
       "</style>\n",
       "<table border=\"1\" class=\"dataframe\">\n",
       "  <thead>\n",
       "    <tr style=\"text-align: right;\">\n",
       "      <th></th>\n",
       "      <th>user_id</th>\n",
       "      <th>lat</th>\n",
       "      <th>lng</th>\n",
       "      <th>geom</th>\n",
       "      <th>Country</th>\n",
       "      <th>City</th>\n",
       "      <th>Town</th>\n",
       "    </tr>\n",
       "  </thead>\n",
       "  <tbody>\n",
       "    <tr>\n",
       "      <th>0</th>\n",
       "      <td>35539881</td>\n",
       "      <td>-34.063782</td>\n",
       "      <td>18.820499</td>\n",
       "      <td>-34.06378174,18.82049942</td>\n",
       "      <td>South Africa</td>\n",
       "      <td></td>\n",
       "      <td>Somerset West</td>\n",
       "    </tr>\n",
       "    <tr>\n",
       "      <th>1</th>\n",
       "      <td>19603336</td>\n",
       "      <td>-29.191851</td>\n",
       "      <td>27.444849</td>\n",
       "      <td>-29.19185066,27.44484901</td>\n",
       "      <td>South Africa</td>\n",
       "      <td>Mantsopa Local Municipality</td>\n",
       "      <td>Ladybrand</td>\n",
       "    </tr>\n",
       "    <tr>\n",
       "      <th>2</th>\n",
       "      <td>40292465</td>\n",
       "      <td>-26.950027</td>\n",
       "      <td>28.100788</td>\n",
       "      <td>-26.95002747,28.10078812</td>\n",
       "      <td>South Africa</td>\n",
       "      <td>Metsimaholo Local Municipality</td>\n",
       "      <td></td>\n",
       "    </tr>\n",
       "    <tr>\n",
       "      <th>3</th>\n",
       "      <td>26428370</td>\n",
       "      <td>-34.081173</td>\n",
       "      <td>23.065119</td>\n",
       "      <td>-34.08117294,23.06511879</td>\n",
       "      <td>South Africa</td>\n",
       "      <td>Knysna Local Municipality</td>\n",
       "      <td></td>\n",
       "    </tr>\n",
       "    <tr>\n",
       "      <th>4</th>\n",
       "      <td>19829847</td>\n",
       "      <td>-28.773481</td>\n",
       "      <td>20.613968</td>\n",
       "      <td>-28.77348137,20.6139679</td>\n",
       "      <td>South Africa</td>\n",
       "      <td>Kai !Garib Local Municipality</td>\n",
       "      <td></td>\n",
       "    </tr>\n",
       "    <tr>\n",
       "      <th>...</th>\n",
       "      <td>...</td>\n",
       "      <td>...</td>\n",
       "      <td>...</td>\n",
       "      <td>...</td>\n",
       "      <td>...</td>\n",
       "      <td>...</td>\n",
       "      <td>...</td>\n",
       "    </tr>\n",
       "    <tr>\n",
       "      <th>6322</th>\n",
       "      <td>4033111</td>\n",
       "      <td>-34.414188</td>\n",
       "      <td>19.296463</td>\n",
       "      <td>-34.41418839,19.29646301</td>\n",
       "      <td>South Africa</td>\n",
       "      <td>Overstrand Local Municipality</td>\n",
       "      <td></td>\n",
       "    </tr>\n",
       "    <tr>\n",
       "      <th>6323</th>\n",
       "      <td>46073981</td>\n",
       "      <td>-26.035767</td>\n",
       "      <td>27.848446</td>\n",
       "      <td>-26.0357666,27.84844589</td>\n",
       "      <td>South Africa</td>\n",
       "      <td>Mogale City Local Municipality</td>\n",
       "      <td></td>\n",
       "    </tr>\n",
       "    <tr>\n",
       "      <th>6324</th>\n",
       "      <td>35455566</td>\n",
       "      <td>-29.597031</td>\n",
       "      <td>29.957855</td>\n",
       "      <td>-29.59703064,29.95785523</td>\n",
       "      <td>South Africa</td>\n",
       "      <td>Impendle Local Municipality</td>\n",
       "      <td></td>\n",
       "    </tr>\n",
       "    <tr>\n",
       "      <th>6325</th>\n",
       "      <td>43203772</td>\n",
       "      <td>-25.419594</td>\n",
       "      <td>30.102758</td>\n",
       "      <td>-25.41959381,30.10275841</td>\n",
       "      <td>South Africa</td>\n",
       "      <td>Emakhazeni Local Municipality</td>\n",
       "      <td></td>\n",
       "    </tr>\n",
       "    <tr>\n",
       "      <th>6326</th>\n",
       "      <td>46002575</td>\n",
       "      <td>-25.664377</td>\n",
       "      <td>30.340513</td>\n",
       "      <td>-25.66437721,30.34051323</td>\n",
       "      <td>South Africa</td>\n",
       "      <td>Emakhazeni Local Municipality</td>\n",
       "      <td></td>\n",
       "    </tr>\n",
       "  </tbody>\n",
       "</table>\n",
       "<p>6327 rows × 7 columns</p>\n",
       "</div>\n",
       "      <button class=\"colab-df-convert\" onclick=\"convertToInteractive('df-8767b6cc-2e8e-46dd-878a-58a0225ec4b3')\"\n",
       "              title=\"Convert this dataframe to an interactive table.\"\n",
       "              style=\"display:none;\">\n",
       "        \n",
       "  <svg xmlns=\"http://www.w3.org/2000/svg\" height=\"24px\"viewBox=\"0 0 24 24\"\n",
       "       width=\"24px\">\n",
       "    <path d=\"M0 0h24v24H0V0z\" fill=\"none\"/>\n",
       "    <path d=\"M18.56 5.44l.94 2.06.94-2.06 2.06-.94-2.06-.94-.94-2.06-.94 2.06-2.06.94zm-11 1L8.5 8.5l.94-2.06 2.06-.94-2.06-.94L8.5 2.5l-.94 2.06-2.06.94zm10 10l.94 2.06.94-2.06 2.06-.94-2.06-.94-.94-2.06-.94 2.06-2.06.94z\"/><path d=\"M17.41 7.96l-1.37-1.37c-.4-.4-.92-.59-1.43-.59-.52 0-1.04.2-1.43.59L10.3 9.45l-7.72 7.72c-.78.78-.78 2.05 0 2.83L4 21.41c.39.39.9.59 1.41.59.51 0 1.02-.2 1.41-.59l7.78-7.78 2.81-2.81c.8-.78.8-2.07 0-2.86zM5.41 20L4 18.59l7.72-7.72 1.47 1.35L5.41 20z\"/>\n",
       "  </svg>\n",
       "      </button>\n",
       "      \n",
       "  <style>\n",
       "    .colab-df-container {\n",
       "      display:flex;\n",
       "      flex-wrap:wrap;\n",
       "      gap: 12px;\n",
       "    }\n",
       "\n",
       "    .colab-df-convert {\n",
       "      background-color: #E8F0FE;\n",
       "      border: none;\n",
       "      border-radius: 50%;\n",
       "      cursor: pointer;\n",
       "      display: none;\n",
       "      fill: #1967D2;\n",
       "      height: 32px;\n",
       "      padding: 0 0 0 0;\n",
       "      width: 32px;\n",
       "    }\n",
       "\n",
       "    .colab-df-convert:hover {\n",
       "      background-color: #E2EBFA;\n",
       "      box-shadow: 0px 1px 2px rgba(60, 64, 67, 0.3), 0px 1px 3px 1px rgba(60, 64, 67, 0.15);\n",
       "      fill: #174EA6;\n",
       "    }\n",
       "\n",
       "    [theme=dark] .colab-df-convert {\n",
       "      background-color: #3B4455;\n",
       "      fill: #D2E3FC;\n",
       "    }\n",
       "\n",
       "    [theme=dark] .colab-df-convert:hover {\n",
       "      background-color: #434B5C;\n",
       "      box-shadow: 0px 1px 3px 1px rgba(0, 0, 0, 0.15);\n",
       "      filter: drop-shadow(0px 1px 2px rgba(0, 0, 0, 0.3));\n",
       "      fill: #FFFFFF;\n",
       "    }\n",
       "  </style>\n",
       "\n",
       "      <script>\n",
       "        const buttonEl =\n",
       "          document.querySelector('#df-8767b6cc-2e8e-46dd-878a-58a0225ec4b3 button.colab-df-convert');\n",
       "        buttonEl.style.display =\n",
       "          google.colab.kernel.accessAllowed ? 'block' : 'none';\n",
       "\n",
       "        async function convertToInteractive(key) {\n",
       "          const element = document.querySelector('#df-8767b6cc-2e8e-46dd-878a-58a0225ec4b3');\n",
       "          const dataTable =\n",
       "            await google.colab.kernel.invokeFunction('convertToInteractive',\n",
       "                                                     [key], {});\n",
       "          if (!dataTable) return;\n",
       "\n",
       "          const docLinkHtml = 'Like what you see? Visit the ' +\n",
       "            '<a target=\"_blank\" href=https://colab.research.google.com/notebooks/data_table.ipynb>data table notebook</a>'\n",
       "            + ' to learn more about interactive tables.';\n",
       "          element.innerHTML = '';\n",
       "          dataTable['output_type'] = 'display_data';\n",
       "          await google.colab.output.renderOutput(dataTable, element);\n",
       "          const docLink = document.createElement('div');\n",
       "          docLink.innerHTML = docLinkHtml;\n",
       "          element.appendChild(docLink);\n",
       "        }\n",
       "      </script>\n",
       "    </div>\n",
       "  </div>\n",
       "  "
      ],
      "text/plain": [
       "       user_id        lat  ...                            City           Town\n",
       "0     35539881 -34.063782  ...                                  Somerset West\n",
       "1     19603336 -29.191851  ...     Mantsopa Local Municipality      Ladybrand\n",
       "2     40292465 -26.950027  ...  Metsimaholo Local Municipality               \n",
       "3     26428370 -34.081173  ...       Knysna Local Municipality               \n",
       "4     19829847 -28.773481  ...   Kai !Garib Local Municipality               \n",
       "...        ...        ...  ...                             ...            ...\n",
       "6322   4033111 -34.414188  ...   Overstrand Local Municipality               \n",
       "6323  46073981 -26.035767  ...  Mogale City Local Municipality               \n",
       "6324  35455566 -29.597031  ...     Impendle Local Municipality               \n",
       "6325  43203772 -25.419594  ...   Emakhazeni Local Municipality               \n",
       "6326  46002575 -25.664377  ...   Emakhazeni Local Municipality               \n",
       "\n",
       "[6327 rows x 7 columns]"
      ]
     },
     "execution_count": 59,
     "metadata": {},
     "output_type": "execute_result"
    }
   ],
   "source": [
    "Co_ord"
   ]
  },
  {
   "cell_type": "code",
   "execution_count": 52,
   "metadata": {
    "colab": {
     "base_uri": "https://localhost:8080/"
    },
    "id": "cVn4sSWJ5Nev",
    "outputId": "149a6344-53ef-4bac-ff41-743c061e958a"
   },
   "outputs": [
    {
     "name": "stdout",
     "output_type": "stream",
     "text": [
      "['' 'Aliwal North' 'Atteridgeville' 'Ballito' 'Barberton' 'Beaufort West'\n",
      " 'Bela-Bela' 'Bellville' 'Berg en Dal' 'Bethlehem' 'Bethulie'\n",
      " \"Betty's Bay\" 'Bizana' 'Botha' 'Bredasdorp' 'Brits' 'Burgersfort'\n",
      " 'Bushbuckridge' 'Caledon' 'Calvinia' 'Chakaskraal' 'Clanwilliam'\n",
      " 'Clarens' 'Colesberg' 'Cullinan' 'De Aar' 'Deneysville' 'Dundee'\n",
      " 'Durban North' 'Durbanville' 'Dutywa' 'Dwarskersbos' 'Eersterivier'\n",
      " 'Elandsbaai' 'Empangeni' 'Fish Hoek' 'Fort Beaufort' 'Fouriesburg'\n",
      " 'Franschhoek' 'Gansbaai' 'George' 'Gonubie' 'Graaff-Reinet' 'Grabouw'\n",
      " 'Graskop' 'Hazyview' 'Hermanus' 'Hluhluwe' 'Hoedspruit' 'Hout Bay'\n",
      " 'Irene' 'Jeffreys Bay' 'Kempton Park' 'Keurboomstrand' 'Klawer'\n",
      " 'Kleinmond' 'Kloof' 'Knysna' 'Komani' 'Kosmos' 'Kroonstad' 'KwaMakhutha'\n",
      " 'Ladybrand' 'Langebaan' 'Lydenburg' 'Malmesbury' 'Manguzi' 'Margate'\n",
      " 'Marshstrand' 'Matatiele' 'McGregor' 'Melkbosstrand' 'Melodie'\n",
      " 'Middelburg' 'Milnerton' 'Mogwase' 'Montagu' 'Mooirivier' 'Mossel Bay'\n",
      " 'Mtubatuba' 'Nieu-Bethesda' 'Nigel' 'Nqanqarhu' 'Oudtshoorn' 'Paarl'\n",
      " 'Parys' 'Paternoster' 'Phalaborwa' 'Phuthaditjhaba' 'Piketberg'\n",
      " 'Pinetown' 'Plettenberg Bay' 'Ponta do Ouro' 'Port Alfred' 'Porterville'\n",
      " 'Potchefstroom' 'Prieska' 'Prince Albert' 'Qonce' 'Riversdale'\n",
      " 'Robertson' 'Rosebank' 'Sabie' 'Salt Rock' 'Sasolburg' 'Schoemansville'\n",
      " 'Sedgefield' \"Shaka's Rock\" \"Simon's Town\" 'Somerset East'\n",
      " 'Somerset West' 'Springbok' 'Stanford' 'Stanger / KwaDukuza'\n",
      " 'Stellenbosch' 'Stilbaai' 'Strand' 'Struisbaai' 'Sutherland'\n",
      " 'Swartruggens' 'Swellendam' 'Thabazimbi' 'Tulbagh' 'Ulundi'\n",
      " 'Umbogintwini' 'Umhlanga Rocks' 'Umkomaas' 'Umtata Central' 'Underberg'\n",
      " 'Velddrif' 'Victoria Falls' 'Wellington' 'White River' 'Willowmore'\n",
      " 'Worcester' 'Yzerfontein']\n"
     ]
    }
   ],
   "source": [
    "print(np.unique(Co_ord[\"Town\"]))"
   ]
  },
  {
   "cell_type": "code",
   "execution_count": 56,
   "metadata": {
    "colab": {
     "base_uri": "https://localhost:8080/"
    },
    "id": "BsCmPIr99Ab0",
    "outputId": "b86579f8-d6c9-482e-c0e7-c73e3f283ec4"
   },
   "outputs": [
    {
     "name": "stdout",
     "output_type": "stream",
     "text": [
      "['' 'Botswana' 'Moçambique' 'Namibia' 'South Africa' 'Zimbabwe' 'eSwatini']\n"
     ]
    }
   ],
   "source": [
    "print(np.unique(Co_ord[\"Country\"]))"
   ]
  },
  {
   "cell_type": "code",
   "execution_count": 58,
   "metadata": {
    "id": "GpMestRn_EYC"
   },
   "outputs": [],
   "source": [
    "Co_ord.to_csv(\"City and Country Data.csv\")"
   ]
  },
  {
   "cell_type": "code",
   "execution_count": null,
   "metadata": {
    "id": "MBlqfLlA_bUF"
   },
   "outputs": [],
   "source": []
  }
 ],
 "metadata": {
  "colab": {
   "collapsed_sections": [],
   "name": "Reverse Geomapping.ipynb",
   "provenance": []
  },
  "kernelspec": {
   "display_name": "Python 3 (ipykernel)",
   "language": "python",
   "name": "python3"
  },
  "language_info": {
   "codemirror_mode": {
    "name": "ipython",
    "version": 3
   },
   "file_extension": ".py",
   "mimetype": "text/x-python",
   "name": "python",
   "nbconvert_exporter": "python",
   "pygments_lexer": "ipython3",
   "version": "3.9.7"
  }
 },
 "nbformat": 4,
 "nbformat_minor": 1
}
